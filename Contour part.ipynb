{
 "cells": [
  {
   "cell_type": "code",
   "execution_count": 205,
   "metadata": {},
   "outputs": [
    {
     "name": "stdout",
     "output_type": "stream",
     "text": [
      "Loaded model from disk\n"
     ]
    }
   ],
   "source": [
    "from keras.models import model_from_json\n",
    "\n",
    "# load json and create model\n",
    "json_file = open('model.json', 'r')\n",
    "loaded_model_json = json_file.read()\n",
    "json_file.close()\n",
    "loaded_model = model_from_json(loaded_model_json)\n",
    "# load weights into new model\n",
    "loaded_model.load_weights(\"model.h5\")\n",
    "print(\"Loaded model from disk\")"
   ]
  },
  {
   "cell_type": "code",
   "execution_count": 230,
   "metadata": {},
   "outputs": [],
   "source": [
    "import numpy as np\n",
    "import cv2\n",
    "\n",
    "#read the test image\n",
    "im = cv2.imread('C:/Users/sidhy/OneDrive/Desktop/test.jpg')\n",
    "\n",
    "#convert image to grayscale format\n",
    "imgray = cv2.cvtColor(im,cv2.COLOR_BGR2GRAY)\n",
    "\n",
    "cv2.imshow(\"original\",im)\n",
    "cv2.waitKey(0)\n",
    "cv2.destroyAllWindows()"
   ]
  },
  {
   "cell_type": "code",
   "execution_count": 231,
   "metadata": {},
   "outputs": [],
   "source": [
    "im=~im\n",
    "#apply binary thresholding\n",
    "ret,thresh = cv2.threshold(imgray,150,255,cv2.THRESH_BINARY)\n",
    "\n",
    "cv2.imshow(\"Binary image\",thresh)\n",
    "cv2.waitKey(0)\n",
    "cv2.destroyAllWindows()"
   ]
  },
  {
   "cell_type": "code",
   "execution_count": 232,
   "metadata": {},
   "outputs": [
    {
     "name": "stdout",
     "output_type": "stream",
     "text": [
      "4\n"
     ]
    }
   ],
   "source": [
    "#detect contours on binary image using cv2.CHAIN_APPROX_NONE\n",
    "contours, hierarchy = cv2.findContours(image=thresh, mode=cv2.RETR_TREE, method=cv2.CHAIN_APPROX_NONE)\n",
    "#contour retrieval mode used - RETR_TREE - retrieves all of the contours and reconstructs a full hierarchy of nested contours.\n",
    "#cv2.CHAIN_APPROX_NONE - This will keep all the contour points whenever it runs through any boundary lines. \n",
    "\n",
    "print(len(contours))"
   ]
  },
  {
   "cell_type": "code",
   "execution_count": 233,
   "metadata": {},
   "outputs": [],
   "source": [
    "sorted_contours=sorted(contours, key=lambda contour: cv2.boundingRect(contour)[0])"
   ]
  },
  {
   "cell_type": "code",
   "execution_count": 234,
   "metadata": {},
   "outputs": [],
   "source": [
    "w= int(45)\n",
    "h= int(45)\n",
    "train_data= []"
   ]
  },
  {
   "cell_type": "code",
   "execution_count": 235,
   "metadata": {},
   "outputs": [
    {
     "name": "stdout",
     "output_type": "stream",
     "text": [
      "[[0, 0, 357, 436], [91, 67, 156, 263], [95, 184, 148, 142], [97, 71, 122, 110]]\n"
     ]
    }
   ],
   "source": [
    "rectangles= []\n",
    "for c in sorted_contours:\n",
    "    x,y,w,h= cv2.boundingRect(c)\n",
    "    rect= [x,y,w,h]\n",
    "    rectangles.append(rect)\n",
    "    \n",
    "print(rectangles)"
   ]
  },
  {
   "cell_type": "code",
   "execution_count": 236,
   "metadata": {},
   "outputs": [
    {
     "name": "stdout",
     "output_type": "stream",
     "text": [
      "[[0, 1, 1, 1], [1, 0, 1, 1], [1, 1, 0, 0], [1, 1, 0, 0]]\n"
     ]
    }
   ],
   "source": [
    "#i[0] = x\n",
    "#i[1] = y\n",
    "#i[2] = w\n",
    "#i[3] = h\n",
    "bool_rect=[]\n",
    "\n",
    "for i in rectangles:\n",
    "    l=[] #list is made empty everytime i value changes\n",
    "    \n",
    "    for j in rectangles:\n",
    "        flag=0 #reset flag to 0 everytime loop runs\n",
    "        if i!=j:\n",
    "            if i[0]<(j[0]+j[2]) and j[0]<(i[0]+i[2]) and i[1]<(j[1]+j[3]) and j[1]<(i[1]+i[3]):\n",
    "                flag=1\n",
    "            l.append(flag)\n",
    "        else:\n",
    "            l.append(0)\n",
    "        \n",
    "    bool_rect.append(l) #append this list everytime j loop breaks and i value is going to change.\n",
    "                        #therefore there will be 'i'no. of lists inside bool_rect, and each list will\n",
    "                        #have 'j' no. of elements.\n",
    "\n",
    "print(bool_rect)"
   ]
  },
  {
   "cell_type": "code",
   "execution_count": 237,
   "metadata": {},
   "outputs": [
    {
     "name": "stdout",
     "output_type": "stream",
     "text": [
      "[[91, 67, 156, 263], [95, 184, 148, 142], [95, 184, 148, 142], [97, 71, 122, 110], [97, 71, 122, 110]]\n"
     ]
    }
   ],
   "source": [
    "discard_rect=[]\n",
    "\n",
    "for i in range(0, len(sorted_contours)):\n",
    "    for j in range(0, len(sorted_contours)):\n",
    "        if bool_rect[i][j] ==1:\n",
    "            areai = rectangles[i][2]*rectangles[i][3] #w*h\n",
    "            areaj = rectangles[j][2]*rectangles[j][3]\n",
    "            if areai == min(areai, areaj):\n",
    "                discard_rect.append(rectangles[i])\n",
    "                \n",
    "#discard_rect will have repeated values\n",
    "print(discard_rect)"
   ]
  },
  {
   "cell_type": "code",
   "execution_count": 238,
   "metadata": {
    "scrolled": true
   },
   "outputs": [
    {
     "name": "stdout",
     "output_type": "stream",
     "text": [
      "[[0, 0, 357, 436]]\n"
     ]
    }
   ],
   "source": [
    "final_rect = [i for i in rectangles if i not in discard_rect]\n",
    "print(final_rect)"
   ]
  },
  {
   "cell_type": "code",
   "execution_count": 239,
   "metadata": {},
   "outputs": [],
   "source": [
    "for i in final_rect:\n",
    "    x = i[0]\n",
    "    y = i[1]\n",
    "    w = i[2]\n",
    "    h = i[3]\n",
    "    \n",
    "    im_crop = thresh[y:y+h, x:x+w]\n",
    "    \n",
    "    im_resize = cv2.resize(im_crop,(45,45))\n",
    "    cv2.imshow(\"image\",im_resize)\n",
    "    cv2.waitKey(0)\n",
    "    cv2.destroyAllWindows()\n",
    "\n",
    "    im_resize=np.reshape(im_resize,(45,45,1))\n",
    "    train_data.append(im_resize)"
   ]
  },
  {
   "cell_type": "code",
   "execution_count": 240,
   "metadata": {},
   "outputs": [],
   "source": [
    "s=''\n",
    "for i in range(len(train_data)):\n",
    "    train_data[i]=np.array(train_data[i])\n",
    "    train_data[i]=train_data[i].reshape(-1,45,45,1)\n",
    "    result=np.argmax(loaded_model.predict(train_data[i]), axis= -1)\n",
    "    if(result[0]==0):\n",
    "        s=s+'+'\n",
    "    if(result[0]==1):\n",
    "        s=s+'-'\n",
    "    if(result[0]==2):\n",
    "        s=s+'0'\n",
    "    if(result[0]==3):\n",
    "        s=s+'1'\n",
    "    if(result[0]==4):\n",
    "        s=s+'2'\n",
    "    if(result[0]==5):\n",
    "        s=s+'3'\n",
    "    if(result[0]==6):\n",
    "        s=s+'4'\n",
    "    if(result[0]==7):\n",
    "        s=s+'5'\n",
    "    if(result[0]==8):\n",
    "        s=s+'6'\n",
    "    if(result[0]==9):\n",
    "        s=s+'7'\n",
    "    if(result[0]==10):\n",
    "        s=s+'8'\n",
    "    if(result[0]==11):\n",
    "        s=s+'9'\n",
    "    if(result[0]==12):\n",
    "        s=s+'='\n",
    "    if(result[0]==13):\n",
    "        s=s+'x'\n",
    "    if(result[0]==14):\n",
    "        s=s+'cos'\n",
    "    if(result[0]==15):\n",
    "        s=s+'/'\n",
    "    if(result[0]==16):\n",
    "        s=s+'log'\n",
    "    if(result[0]==17):\n",
    "        s=s+'sin'\n",
    "    if(result[0]==18):\n",
    "        s=s+'sqrt'\n",
    "    if(result[0]==19):\n",
    "        s=s+'tan'\n",
    "    if(result[0]==20):\n",
    "        s=s+'*'\n",
    "    if(result[0]==21):\n",
    "        s=s+'y'\n",
    "     "
   ]
  },
  {
   "cell_type": "code",
   "execution_count": 241,
   "metadata": {},
   "outputs": [
    {
     "data": {
      "text/plain": [
       "'log'"
      ]
     },
     "execution_count": 241,
     "metadata": {},
     "output_type": "execute_result"
    }
   ],
   "source": [
    "s"
   ]
  },
  {
   "cell_type": "code",
   "execution_count": null,
   "metadata": {},
   "outputs": [],
   "source": []
  },
  {
   "cell_type": "code",
   "execution_count": null,
   "metadata": {},
   "outputs": [],
   "source": []
  }
 ],
 "metadata": {
  "kernelspec": {
   "display_name": "Python 3",
   "language": "python",
   "name": "python3"
  },
  "language_info": {
   "codemirror_mode": {
    "name": "ipython",
    "version": 3
   },
   "file_extension": ".py",
   "mimetype": "text/x-python",
   "name": "python",
   "nbconvert_exporter": "python",
   "pygments_lexer": "ipython3",
   "version": "3.8.3"
  }
 },
 "nbformat": 4,
 "nbformat_minor": 4
}
