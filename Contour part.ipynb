{
 "cells": [
  {
   "cell_type": "code",
   "execution_count": 2,
   "metadata": {},
   "outputs": [
    {
     "name": "stdout",
     "output_type": "stream",
     "text": [
      "Loaded model from disk\n",
      "<tensorflow.python.keras.engine.sequential.Sequential object at 0x00000163BE142910>\n"
     ]
    }
   ],
   "source": [
    "from tensorflow.keras.models import model_from_json\n",
    "\n",
    "# load json and create model\n",
    "json_file = open('model.json', 'r')\n",
    "loaded_model_json = json_file.read()\n",
    "json_file.close()\n",
    "loaded_model = model_from_json(loaded_model_json)\n",
    "# load weights into new model\n",
    "loaded_model.load_weights(\"model.h5\")\n",
    "print(\"Loaded model from disk\")\n",
    "print(loaded_model)"
   ]
  },
  {
   "cell_type": "code",
   "execution_count": 3,
   "metadata": {},
   "outputs": [],
   "source": [
    "import numpy as np\n",
    "import cv2\n",
    "import matplotlib.pyplot as plt\n",
    "\n",
    "#read the test image\n",
    "im = cv2.imread('./test.jpg')\n",
    "\n",
    "#convert image to grayscale format\n",
    "imgray = cv2.cvtColor(im,cv2.COLOR_BGR2GRAY)\n",
    "\n",
    "cv2.imshow(\"original\",im)\n",
    "cv2.waitKey(0)\n",
    "cv2.destroyAllWindows()"
   ]
  },
  {
   "cell_type": "code",
   "execution_count": 4,
   "metadata": {},
   "outputs": [
    {
     "name": "stdout",
     "output_type": "stream",
     "text": [
      "(532, 872)\n"
     ]
    }
   ],
   "source": [
    "imgray=~imgray\n",
    "#apply binary thresholding\n",
    "ret,thresh = cv2.threshold(imgray,100,250,cv2.THRESH_BINARY)\n",
    "\n",
    "cv2.imshow(\"Binary image\",thresh)\n",
    "cv2.waitKey(0)\n",
    "cv2.destroyAllWindows()\n",
    "print(thresh.shape)"
   ]
  },
  {
   "cell_type": "code",
   "execution_count": 5,
   "metadata": {},
   "outputs": [
    {
     "name": "stdout",
     "output_type": "stream",
     "text": [
      "32\n"
     ]
    }
   ],
   "source": [
    "#detect contours on binary image using cv2.CHAIN_APPROX_NONE\n",
    "contours, hierarchy = cv2.findContours(thresh, cv2.RETR_TREE, cv2.CHAIN_APPROX_NONE)[-2:]\n",
    "#contour retrieval mode used - RETR_TREE - retrieves all of the contours and reconstructs a full hierarchy of nested contours.\n",
    "#cv2.CHAIN_APPROX_NONE - This will keep all the contour points whenever it runs through any boundary lines. \n",
    "\n",
    "print(len(contours))"
   ]
  },
  {
   "cell_type": "code",
   "execution_count": 6,
   "metadata": {},
   "outputs": [],
   "source": [
    "sorted_contours=sorted(contours, key=lambda contour: cv2.boundingRect(contour)[0])"
   ]
  },
  {
   "cell_type": "code",
   "execution_count": 7,
   "metadata": {},
   "outputs": [
    {
     "name": "stdout",
     "output_type": "stream",
     "text": [
      "(532, 872)\n"
     ]
    }
   ],
   "source": [
    "print(imgray.shape)\n",
    "w= int(500)\n",
    "h= int(800)\n",
    "train_data= []"
   ]
  },
  {
   "cell_type": "code",
   "execution_count": 8,
   "metadata": {},
   "outputs": [
    {
     "name": "stdout",
     "output_type": "stream",
     "text": [
      "[[170, 200, 18, 103], [186, 205, 1, 1], [239, 240, 1, 1], [250, 215, 72, 80], [279, 286, 3, 3], [281, 287, 5, 5], [293, 290, 3, 3], [363, 303, 1, 1], [382, 218, 48, 91], [392, 239, 3, 3], [393, 238, 3, 3], [401, 294, 1, 1], [411, 266, 6, 5], [475, 223, 66, 96], [482, 234, 4, 3], [484, 228, 3, 3], [486, 239, 1, 1], [503, 250, 1, 1], [512, 249, 3, 3], [515, 247, 3, 3], [517, 247, 3, 3], [522, 255, 1, 1], [582, 230, 67, 97], [589, 238, 54, 81], [595, 232, 3, 3], [620, 249, 3, 3], [630, 255, 3, 3], [631, 256, 3, 3], [632, 258, 6, 7], [634, 265, 3, 3], [635, 266, 3, 3], [636, 268, 3, 3]]\n"
     ]
    }
   ],
   "source": [
    "rectangles= []\n",
    "for c in sorted_contours:\n",
    "    x,y,w,h= cv2.boundingRect(c)\n",
    "    rect= [x,y,w,h]\n",
    "    rectangles.append(rect)\n",
    "    \n",
    "print(rectangles)"
   ]
  },
  {
   "cell_type": "code",
   "execution_count": 9,
   "metadata": {},
   "outputs": [
    {
     "name": "stdout",
     "output_type": "stream",
     "text": [
      "[[0, 1, 0, 0, 0, 0, 0, 0, 0, 0, 0, 0, 0, 0, 0, 0, 0, 0, 0, 0, 0, 0, 0, 0, 0, 0, 0, 0, 0, 0, 0, 0], [1, 0, 0, 0, 0, 0, 0, 0, 0, 0, 0, 0, 0, 0, 0, 0, 0, 0, 0, 0, 0, 0, 0, 0, 0, 0, 0, 0, 0, 0, 0, 0], [0, 0, 0, 0, 0, 0, 0, 0, 0, 0, 0, 0, 0, 0, 0, 0, 0, 0, 0, 0, 0, 0, 0, 0, 0, 0, 0, 0, 0, 0, 0, 0], [0, 0, 0, 0, 1, 1, 1, 0, 0, 0, 0, 0, 0, 0, 0, 0, 0, 0, 0, 0, 0, 0, 0, 0, 0, 0, 0, 0, 0, 0, 0, 0], [0, 0, 0, 1, 0, 1, 0, 0, 0, 0, 0, 0, 0, 0, 0, 0, 0, 0, 0, 0, 0, 0, 0, 0, 0, 0, 0, 0, 0, 0, 0, 0], [0, 0, 0, 1, 1, 0, 0, 0, 0, 0, 0, 0, 0, 0, 0, 0, 0, 0, 0, 0, 0, 0, 0, 0, 0, 0, 0, 0, 0, 0, 0, 0], [0, 0, 0, 1, 0, 0, 0, 0, 0, 0, 0, 0, 0, 0, 0, 0, 0, 0, 0, 0, 0, 0, 0, 0, 0, 0, 0, 0, 0, 0, 0, 0], [0, 0, 0, 0, 0, 0, 0, 0, 0, 0, 0, 0, 0, 0, 0, 0, 0, 0, 0, 0, 0, 0, 0, 0, 0, 0, 0, 0, 0, 0, 0, 0], [0, 0, 0, 0, 0, 0, 0, 0, 0, 1, 1, 1, 1, 0, 0, 0, 0, 0, 0, 0, 0, 0, 0, 0, 0, 0, 0, 0, 0, 0, 0, 0], [0, 0, 0, 0, 0, 0, 0, 0, 1, 0, 1, 0, 0, 0, 0, 0, 0, 0, 0, 0, 0, 0, 0, 0, 0, 0, 0, 0, 0, 0, 0, 0], [0, 0, 0, 0, 0, 0, 0, 0, 1, 1, 0, 0, 0, 0, 0, 0, 0, 0, 0, 0, 0, 0, 0, 0, 0, 0, 0, 0, 0, 0, 0, 0], [0, 0, 0, 0, 0, 0, 0, 0, 1, 0, 0, 0, 0, 0, 0, 0, 0, 0, 0, 0, 0, 0, 0, 0, 0, 0, 0, 0, 0, 0, 0, 0], [0, 0, 0, 0, 0, 0, 0, 0, 1, 0, 0, 0, 0, 0, 0, 0, 0, 0, 0, 0, 0, 0, 0, 0, 0, 0, 0, 0, 0, 0, 0, 0], [0, 0, 0, 0, 0, 0, 0, 0, 0, 0, 0, 0, 0, 0, 1, 1, 1, 1, 1, 1, 1, 1, 0, 0, 0, 0, 0, 0, 0, 0, 0, 0], [0, 0, 0, 0, 0, 0, 0, 0, 0, 0, 0, 0, 0, 1, 0, 0, 0, 0, 0, 0, 0, 0, 0, 0, 0, 0, 0, 0, 0, 0, 0, 0], [0, 0, 0, 0, 0, 0, 0, 0, 0, 0, 0, 0, 0, 1, 0, 0, 0, 0, 0, 0, 0, 0, 0, 0, 0, 0, 0, 0, 0, 0, 0, 0], [0, 0, 0, 0, 0, 0, 0, 0, 0, 0, 0, 0, 0, 1, 0, 0, 0, 0, 0, 0, 0, 0, 0, 0, 0, 0, 0, 0, 0, 0, 0, 0], [0, 0, 0, 0, 0, 0, 0, 0, 0, 0, 0, 0, 0, 1, 0, 0, 0, 0, 0, 0, 0, 0, 0, 0, 0, 0, 0, 0, 0, 0, 0, 0], [0, 0, 0, 0, 0, 0, 0, 0, 0, 0, 0, 0, 0, 1, 0, 0, 0, 0, 0, 0, 0, 0, 0, 0, 0, 0, 0, 0, 0, 0, 0, 0], [0, 0, 0, 0, 0, 0, 0, 0, 0, 0, 0, 0, 0, 1, 0, 0, 0, 0, 0, 0, 1, 0, 0, 0, 0, 0, 0, 0, 0, 0, 0, 0], [0, 0, 0, 0, 0, 0, 0, 0, 0, 0, 0, 0, 0, 1, 0, 0, 0, 0, 0, 1, 0, 0, 0, 0, 0, 0, 0, 0, 0, 0, 0, 0], [0, 0, 0, 0, 0, 0, 0, 0, 0, 0, 0, 0, 0, 1, 0, 0, 0, 0, 0, 0, 0, 0, 0, 0, 0, 0, 0, 0, 0, 0, 0, 0], [0, 0, 0, 0, 0, 0, 0, 0, 0, 0, 0, 0, 0, 0, 0, 0, 0, 0, 0, 0, 0, 0, 0, 1, 1, 1, 1, 1, 1, 1, 1, 1], [0, 0, 0, 0, 0, 0, 0, 0, 0, 0, 0, 0, 0, 0, 0, 0, 0, 0, 0, 0, 0, 0, 1, 0, 0, 1, 1, 1, 1, 1, 1, 1], [0, 0, 0, 0, 0, 0, 0, 0, 0, 0, 0, 0, 0, 0, 0, 0, 0, 0, 0, 0, 0, 0, 1, 0, 0, 0, 0, 0, 0, 0, 0, 0], [0, 0, 0, 0, 0, 0, 0, 0, 0, 0, 0, 0, 0, 0, 0, 0, 0, 0, 0, 0, 0, 0, 1, 1, 0, 0, 0, 0, 0, 0, 0, 0], [0, 0, 0, 0, 0, 0, 0, 0, 0, 0, 0, 0, 0, 0, 0, 0, 0, 0, 0, 0, 0, 0, 1, 1, 0, 0, 0, 1, 0, 0, 0, 0], [0, 0, 0, 0, 0, 0, 0, 0, 0, 0, 0, 0, 0, 0, 0, 0, 0, 0, 0, 0, 0, 0, 1, 1, 0, 0, 1, 0, 1, 0, 0, 0], [0, 0, 0, 0, 0, 0, 0, 0, 0, 0, 0, 0, 0, 0, 0, 0, 0, 0, 0, 0, 0, 0, 1, 1, 0, 0, 0, 1, 0, 0, 0, 0], [0, 0, 0, 0, 0, 0, 0, 0, 0, 0, 0, 0, 0, 0, 0, 0, 0, 0, 0, 0, 0, 0, 1, 1, 0, 0, 0, 0, 0, 0, 1, 0], [0, 0, 0, 0, 0, 0, 0, 0, 0, 0, 0, 0, 0, 0, 0, 0, 0, 0, 0, 0, 0, 0, 1, 1, 0, 0, 0, 0, 0, 1, 0, 1], [0, 0, 0, 0, 0, 0, 0, 0, 0, 0, 0, 0, 0, 0, 0, 0, 0, 0, 0, 0, 0, 0, 1, 1, 0, 0, 0, 0, 0, 0, 1, 0]]\n"
     ]
    }
   ],
   "source": [
    "#i[0] = x\n",
    "#i[1] = y\n",
    "#i[2] = w\n",
    "#i[3] = h\n",
    "bool_rect=[]\n",
    "\n",
    "for i in rectangles:\n",
    "    l=[] #list is made empty everytime i value changes\n",
    "    \n",
    "    for j in rectangles:\n",
    "        flag=0 #reset flag to 0 everytime loop runs\n",
    "        if i!=j:\n",
    "            if i[0]<(j[0]+j[2]) and j[0]<(i[0]+i[2]) and i[1]<(j[1]+j[3]) and j[1]<(i[1]+i[3]):\n",
    "                flag=1\n",
    "            l.append(flag)\n",
    "        else:\n",
    "            l.append(0)\n",
    "        \n",
    "    bool_rect.append(l) #append this list everytime j loop breaks and i value is going to change.\n",
    "                        #therefore there will be 'i'no. of lists inside bool_rect, and each list will\n",
    "                        #have 'j' no. of elements.\n",
    "\n",
    "print(bool_rect)"
   ]
  },
  {
   "cell_type": "code",
   "execution_count": 10,
   "metadata": {},
   "outputs": [
    {
     "name": "stdout",
     "output_type": "stream",
     "text": [
      "[[186, 205, 1, 1], [279, 286, 3, 3], [279, 286, 3, 3], [281, 287, 5, 5], [293, 290, 3, 3], [392, 239, 3, 3], [392, 239, 3, 3], [393, 238, 3, 3], [393, 238, 3, 3], [401, 294, 1, 1], [411, 266, 6, 5], [482, 234, 4, 3], [484, 228, 3, 3], [486, 239, 1, 1], [503, 250, 1, 1], [512, 249, 3, 3], [515, 247, 3, 3], [515, 247, 3, 3], [517, 247, 3, 3], [517, 247, 3, 3], [522, 255, 1, 1], [589, 238, 54, 81], [595, 232, 3, 3], [620, 249, 3, 3], [620, 249, 3, 3], [630, 255, 3, 3], [630, 255, 3, 3], [630, 255, 3, 3], [631, 256, 3, 3], [631, 256, 3, 3], [631, 256, 3, 3], [631, 256, 3, 3], [632, 258, 6, 7], [632, 258, 6, 7], [634, 265, 3, 3], [634, 265, 3, 3], [634, 265, 3, 3], [635, 266, 3, 3], [635, 266, 3, 3], [635, 266, 3, 3], [635, 266, 3, 3], [636, 268, 3, 3], [636, 268, 3, 3], [636, 268, 3, 3]]\n"
     ]
    }
   ],
   "source": [
    "discard_rect=[]\n",
    "\n",
    "for i in range(0, len(sorted_contours)):\n",
    "    for j in range(0, len(sorted_contours)):\n",
    "        if bool_rect[i][j] ==1:\n",
    "            areai = rectangles[i][2]*rectangles[i][3] #w*h\n",
    "            areaj = rectangles[j][2]*rectangles[j][3]\n",
    "            if areai == min(areai, areaj):\n",
    "                discard_rect.append(rectangles[i])\n",
    "                \n",
    "#discard_rect will have repeated values\n",
    "print(discard_rect)"
   ]
  },
  {
   "cell_type": "code",
   "execution_count": 11,
   "metadata": {
    "scrolled": true
   },
   "outputs": [
    {
     "name": "stdout",
     "output_type": "stream",
     "text": [
      "[[170, 200, 18, 103], [239, 240, 1, 1], [250, 215, 72, 80], [363, 303, 1, 1], [382, 218, 48, 91], [475, 223, 66, 96], [582, 230, 67, 97]]\n"
     ]
    }
   ],
   "source": [
    "final_rect = [i for i in rectangles if i not in discard_rect]\n",
    "print(final_rect)"
   ]
  },
  {
   "cell_type": "code",
   "execution_count": 12,
   "metadata": {},
   "outputs": [],
   "source": [
    "for i in final_rect:\n",
    "    x = i[0]\n",
    "    y = i[1]\n",
    "    w = i[2]\n",
    "    h = i[3]\n",
    "    \n",
    "    im_crop = thresh[y:y+h, x:x+w]\n",
    "    \n",
    "    im_resize = cv2.resize(im_crop,(45,45))\n",
    "    cv2.imshow(\"image\",im_resize)\n",
    "    cv2.waitKey(5)\n",
    "    cv2.destroyAllWindows()\n",
    "\n",
    "    im_resize=np.reshape(im_resize,(45,45,1))\n",
    "    train_data.append(im_resize)"
   ]
  },
  {
   "cell_type": "code",
   "execution_count": 14,
   "metadata": {},
   "outputs": [
    {
     "name": "stdout",
     "output_type": "stream",
     "text": [
      "7\n"
     ]
    }
   ],
   "source": [
    "print(len(train_data))\n",
    "a = len(train_data)"
   ]
  },
  {
   "cell_type": "code",
   "execution_count": 15,
   "metadata": {},
   "outputs": [],
   "source": [
    "final = []\n",
    "for i in range (len(train_data)):\n",
    "    img = np.array(train_data[i])\n",
    "    img = np.resize(img, (45,45))\n",
    "    h, w = img.shape\n",
    "    c = 0\n",
    "    for j in range (h):\n",
    "        for k in range (w):\n",
    "            if img[j][k] == 250:\n",
    "                c+=1\n",
    "    if c == np.size(img):\n",
    "        pass\n",
    "    else:\n",
    "        final.append(train_data[i])"
   ]
  },
  {
   "cell_type": "code",
   "execution_count": 16,
   "metadata": {},
   "outputs": [
    {
     "data": {
      "image/png": "[encoded data removed]",
      "text/plain": [
       "<Figure size 432x288 with 1 Axes>"
      ]
     },
     "metadata": {
      "needs_background": "light"
     },
     "output_type": "display_data"
    },
    {
     "data": {
      "image/png": "[encoded data removed]",
      "text/plain": [
       "<Figure size 432x288 with 1 Axes>"
      ]
     },
     "metadata": {
      "needs_background": "light"
     },
     "output_type": "display_data"
    },
    {
     "data": {
      "image/png": "[encoded data removed]",
      "text/plain": [
       "<Figure size 432x288 with 1 Axes>"
      ]
     },
     "metadata": {
      "needs_background": "light"
     },
     "output_type": "display_data"
    },
    {
     "data": {
      "image/png": "[encoded data removed]",
      "text/plain": [
       "<Figure size 432x288 with 1 Axes>"
      ]
     },
     "metadata": {
      "needs_background": "light"
     },
     "output_type": "display_data"
    },
    {
     "data": {
      "image/png": "[encoded data removed]",
      "text/plain": [
       "<Figure size 432x288 with 1 Axes>"
      ]
     },
     "metadata": {
      "needs_background": "light"
     },
     "output_type": "display_data"
    }
   ],
   "source": [
    "for i in range (len(final)):\n",
    "    img = np.resize(final[i], (45,45))\n",
    "    plt.imshow(img)\n",
    "    plt.show()\n",
    "    \n",
    "train_data = final"
   ]
  },
  {
   "cell_type": "code",
   "execution_count": 26,
   "metadata": {},
   "outputs": [
    {
     "name": "stdout",
     "output_type": "stream",
     "text": [
      "12\n",
      "[[0. 0. 0. 0. 0. 0. 0. 0. 0. 0. 0. 0. 1. 0. 0.]]\n",
      "7\n",
      "[[0. 0. 0. 0. 0. 0. 0. 1. 0. 0. 0. 0. 0. 0. 0.]]\n",
      "7\n",
      "[[0. 0. 0. 0. 0. 0. 0. 1. 0. 0. 0. 0. 0. 0. 0.]]\n",
      "7\n",
      "[[0. 0. 0. 0. 0. 0. 0. 1. 0. 0. 0. 0. 0. 0. 0.]]\n",
      "7\n",
      "[[0. 0. 0. 0. 0. 0. 0. 1. 0. 0. 0. 0. 0. 0. 0.]]\n"
     ]
    }
   ],
   "source": [
    "import tensorflow\n",
    "s=''\n",
    "for i in range(len(train_data)):\n",
    "    train_data[i]=np.array(train_data[i])\n",
    "    train_data[i]=train_data[i].reshape(-1,45,45,1)\n",
    "    result=loaded_model.predict(train_data[i])\n",
    "    model = tensorflow.keras.models.load_model('./solver.h5')\n",
    "    r2 = model.predict(train_data[i])\n",
    "    result=np.argmax(result)\n",
    "    print(result)\n",
    "    print(r2)\n",
    "#     img = np.resize(train_data[i], (45,45))\n",
    "#     plt.imshow(img)\n",
    "#     plt.show()\n",
    "#     if(result[0]==0):\n",
    "#         s=s+'+'\n",
    "#     if(result[0]==1):\n",
    "#         s=s+'-'\n",
    "#     if(result[0]==2):\n",
    "#         s=s+'0'\n",
    "#     if(result[0]==3):\n",
    "#         s=s+'1'\n",
    "#     if(result[0]==4):\n",
    "#         s=s+'2'\n",
    "#     if(result[0]==5):\n",
    "#         s=s+'3'\n",
    "#     if(result[0]==6):\n",
    "#         s=s+'4'\n",
    "#     if(result[0]==7):\n",
    "#         s=s+'5'\n",
    "#     if(result[0]==8):\n",
    "#         s=s+'6'\n",
    "#     if(result[0]==9):\n",
    "#         s=s+'7'\n",
    "#     if(result[0]==10):\n",
    "#         s=s+'8'\n",
    "#     if(result[0]==11):\n",
    "#         s=s+'9'\n",
    "#     if(result[0]==12):\n",
    "#         s=s+'='\n",
    "#     if(result[0]==13):\n",
    "#         s=s+'x'\n",
    "#     if(result[0]==14):\n",
    "#         s=s+'cos'\n",
    "#     if(result[0]==15):\n",
    "#         s=s+'/'\n",
    "#     if(result[0]==16):\n",
    "#         s=s+'log'\n",
    "#     if(result[0]==17):\n",
    "#         s=s+'sin'\n",
    "#     if(result[0]==18):\n",
    "#         s=s+'sqrt'\n",
    "#     if(result[0]==19):\n",
    "#         s=s+'tan'\n",
    "#     if(result[0]==20):\n",
    "#         s=s+'*'\n",
    "#     if(result[0]==21):\n",
    "#         s=s+'y'\n",
    "     "
   ]
  },
  {
   "cell_type": "code",
   "execution_count": 27,
   "metadata": {},
   "outputs": [
    {
     "name": "stdout",
     "output_type": "stream",
     "text": [
      "(402, 410, 3)\n",
      "(1, 45, 45, 1)\n"
     ]
    },
    {
     "data": {
      "image/png": "[encoded data removed]",
      "text/plain": [
       "<Figure size 432x288 with 1 Axes>"
      ]
     },
     "metadata": {
      "needs_background": "light"
     },
     "output_type": "display_data"
    }
   ],
   "source": [
    "img = cv2.imread('./5.png')\n",
    "print(img.shape)\n",
    "img = cv2.cvtColor(img, cv2.COLOR_BGR2GRAY)\n",
    "img = np.array(img)\n",
    "img = ~img\n",
    "imgl = np.resize(img, (45,45))\n",
    "imgl = imgl.reshape((-1,45,45,1))\n",
    "print(imgl.shape)\n",
    "plt.imshow(img)\n",
    "plt.show()"
   ]
  },
  {
   "cell_type": "code",
   "execution_count": 30,
   "metadata": {},
   "outputs": [
    {
     "name": "stdout",
     "output_type": "stream",
     "text": [
      "4\n"
     ]
    }
   ],
   "source": [
    "res = model.predict(imgl)\n",
    "print(np.argmax(res))"
   ]
  },
  {
   "cell_type": "code",
   "execution_count": null,
   "metadata": {},
   "outputs": [],
   "source": []
  }
 ],
 "metadata": {
  "kernelspec": {
   "display_name": "Python 3",
   "language": "python",
   "name": "python3"
  },
  "language_info": {
   "codemirror_mode": {
    "name": "ipython",
    "version": 3
   },
   "file_extension": ".py",
   "mimetype": "text/x-python",
   "name": "python",
   "nbconvert_exporter": "python",
   "pygments_lexer": "ipython3",
   "version": "3.8.8"
  }
 },
 "nbformat": 4,
 "nbformat_minor": 4
}
