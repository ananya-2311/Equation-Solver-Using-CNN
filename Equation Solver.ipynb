{
 "cells": [
  {
   "cell_type": "code",
   "execution_count": 1,
   "metadata": {},
   "outputs": [],
   "source": [
    "import numpy as np\n",
    "import tensorflow as tf\n",
    "import matplotlib.pyplot as plt\n",
    "import os\n",
    "from tensorflow.keras.preprocessing.image import ImageDataGenerator\n",
    "from tensorflow.keras.preprocessing import image"
   ]
  },
  {
   "cell_type": "code",
   "execution_count": 2,
   "metadata": {},
   "outputs": [],
   "source": [
    "ds = ImageDataGenerator(rotation_range=20, \n",
    "                        width_shift_range=0.2,\n",
    "                        height_shift_range=0.2,\n",
    "                        validation_split=0.2,\n",
    "                        rescale=1/255,)"
   ]
  },
  {
   "cell_type": "code",
   "execution_count": 3,
   "metadata": {},
   "outputs": [
    {
     "name": "stdout",
     "output_type": "stream",
     "text": [
      "Found 156102 images belonging to 15 classes.\n",
      "Found 39017 images belonging to 15 classes.\n"
     ]
    }
   ],
   "source": [
    "train_dataset = ds.flow_from_directory(\"./Dataset\", \n",
    "                                 class_mode='categorical', color_mode = \"grayscale\",\n",
    "                                 target_size=(45,45),\n",
    "                                 subset=\"training\")\n",
    "\n",
    "test_dataset = ds.flow_from_directory(\"./Dataset\",\n",
    "                                 class_mode='categorical', color_mode = \"grayscale\",\n",
    "                                 target_size=(45,45),\n",
    "                                 subset=\"validation\")"
   ]
  },
  {
   "cell_type": "markdown",
   "metadata": {},
   "source": [
    "# Exploring Dataset"
   ]
  },
  {
   "cell_type": "code",
   "execution_count": 4,
   "metadata": {},
   "outputs": [
    {
     "name": "stdout",
     "output_type": "stream",
     "text": [
      "<tensorflow.python.keras.preprocessing.image.DirectoryIterator object at 0x0000022BE8FC28E0>\n"
     ]
    }
   ],
   "source": [
    "print(train_dataset)"
   ]
  },
  {
   "cell_type": "code",
   "execution_count": 5,
   "metadata": {},
   "outputs": [
    {
     "data": {
      "text/plain": [
       "{'(': 0,\n",
       " ')': 1,\n",
       " '+': 2,\n",
       " '-': 3,\n",
       " '0': 4,\n",
       " '1': 5,\n",
       " '2': 6,\n",
       " '3': 7,\n",
       " '4': 8,\n",
       " '5': 9,\n",
       " '6': 10,\n",
       " '7': 11,\n",
       " '8': 12,\n",
       " '9': 13,\n",
       " '=': 14}"
      ]
     },
     "execution_count": 5,
     "metadata": {},
     "output_type": "execute_result"
    }
   ],
   "source": [
    "train_dataset.class_indices"
   ]
  },
  {
   "cell_type": "code",
   "execution_count": 9,
   "metadata": {},
   "outputs": [
    {
     "name": "stdout",
     "output_type": "stream",
     "text": [
      "None\n"
     ]
    }
   ],
   "source": [
    "import cv2\n",
    "img = cv2.imread(\".Dataset/-/-_66.jpg\", cv2.IMREAD_GRAYSCALE)"
   ]
  },
  {
   "cell_type": "markdown",
   "metadata": {},
   "source": [
    "# Defining Model"
   ]
  },
  {
   "cell_type": "code",
   "execution_count": 12,
   "metadata": {},
   "outputs": [],
   "source": [
    "model = tf.keras.models.Sequential([\n",
    "    #1st Layer\n",
    "    tf.keras.layers.ZeroPadding2D(name=\"ZP1\",input_shape=(45,45,1),),\n",
    "    tf.keras.layers.Conv2D(32,(3,3),activation=\"relu\",padding=\"valid\",name='Conv1',),\n",
    "    tf.keras.layers.BatchNormalization(name=\"BN1\",),\n",
    "    tf.keras.layers.ZeroPadding2D(name=\"ZP2\"),\n",
    "    tf.keras.layers.Conv2D(32,(3,3),activation=\"relu\",padding=\"valid\",name='Conv2'),\n",
    "    tf.keras.layers.BatchNormalization(name=\"BN2\",),\n",
    "    tf.keras.layers.MaxPool2D((2,2),name=\"MP1\"),\n",
    "    #2nd Layer\n",
    "    tf.keras.layers.ZeroPadding2D(name=\"ZP3\"),\n",
    "    tf.keras.layers.Conv2D(64,(3,3),activation=\"relu\",padding=\"valid\",name=\"Conv3\"),\n",
    "    tf.keras.layers.BatchNormalization(name=\"BN3\"),\n",
    "    tf.keras.layers.ZeroPadding2D(name=\"ZP4\"),\n",
    "    tf.keras.layers.Conv2D(64,(3,3),activation=\"relu\",padding=\"valid\",name='Conv4'),\n",
    "    tf.keras.layers.BatchNormalization(name=\"BN4\"),\n",
    "    tf.keras.layers.MaxPool2D((2,2),name=\"MP2\"),\n",
    "    #3rd Layer\n",
    "    tf.keras.layers.ZeroPadding2D(name=\"ZP5\"),\n",
    "    tf.keras.layers.Conv2D(128,(3,3),activation=\"relu\",padding=\"valid\",name=\"Conv5\"),\n",
    "    tf.keras.layers.BatchNormalization(name=\"BN5\"),\n",
    "    tf.keras.layers.ZeroPadding2D(name=\"ZP6\"),\n",
    "    tf.keras.layers.Conv2D(128,(3,3),activation=\"relu\",padding=\"valid\",name='Conv6'),\n",
    "    tf.keras.layers.BatchNormalization(name=\"BN6\"),\n",
    "    tf.keras.layers.MaxPool2D((2,2),name=\"MP3\"),\n",
    "    #Flat Layers\n",
    "    tf.keras.layers.BatchNormalization(name=\"BN7\"),\n",
    "    tf.keras.layers.Flatten(name=\"Flatten\"),\n",
    "    tf.keras.layers.Dense(256,activation=\"relu\",name=\"Dense1\"),\n",
    "    tf.keras.layers.Dense(512,activation=\"relu\",name=\"Dense2\"),\n",
    "    tf.keras.layers.BatchNormalization(name=\"BN8\"),\n",
    "    tf.keras.layers.Dense(15,activation=\"softmax\",name=\"Dense3\")\n",
    "])"
   ]
  },
  {
   "cell_type": "code",
   "execution_count": 13,
   "metadata": {},
   "outputs": [
    {
     "name": "stdout",
     "output_type": "stream",
     "text": [
      "Model: \"sequential_1\"\n",
      "_________________________________________________________________\n",
      "Layer (type)                 Output Shape              Param #   \n",
      "=================================================================\n",
      "ZP1 (ZeroPadding2D)          (None, 47, 47, 1)         0         \n",
      "_________________________________________________________________\n",
      "Conv1 (Conv2D)               (None, 45, 45, 32)        320       \n",
      "_________________________________________________________________\n",
      "BN1 (BatchNormalization)     (None, 45, 45, 32)        128       \n",
      "_________________________________________________________________\n",
      "ZP2 (ZeroPadding2D)          (None, 47, 47, 32)        0         \n",
      "_________________________________________________________________\n",
      "Conv2 (Conv2D)               (None, 45, 45, 32)        9248      \n",
      "_________________________________________________________________\n",
      "BN2 (BatchNormalization)     (None, 45, 45, 32)        128       \n",
      "_________________________________________________________________\n",
      "MP1 (MaxPooling2D)           (None, 22, 22, 32)        0         \n",
      "_________________________________________________________________\n",
      "ZP3 (ZeroPadding2D)          (None, 24, 24, 32)        0         \n",
      "_________________________________________________________________\n",
      "Conv3 (Conv2D)               (None, 22, 22, 64)        18496     \n",
      "_________________________________________________________________\n",
      "BN3 (BatchNormalization)     (None, 22, 22, 64)        256       \n",
      "_________________________________________________________________\n",
      "ZP4 (ZeroPadding2D)          (None, 24, 24, 64)        0         \n",
      "_________________________________________________________________\n",
      "Conv4 (Conv2D)               (None, 22, 22, 64)        36928     \n",
      "_________________________________________________________________\n",
      "BN4 (BatchNormalization)     (None, 22, 22, 64)        256       \n",
      "_________________________________________________________________\n",
      "MP2 (MaxPooling2D)           (None, 11, 11, 64)        0         \n",
      "_________________________________________________________________\n",
      "ZP5 (ZeroPadding2D)          (None, 13, 13, 64)        0         \n",
      "_________________________________________________________________\n",
      "Conv5 (Conv2D)               (None, 11, 11, 128)       73856     \n",
      "_________________________________________________________________\n",
      "BN5 (BatchNormalization)     (None, 11, 11, 128)       512       \n",
      "_________________________________________________________________\n",
      "ZP6 (ZeroPadding2D)          (None, 13, 13, 128)       0         \n",
      "_________________________________________________________________\n",
      "Conv6 (Conv2D)               (None, 11, 11, 128)       147584    \n",
      "_________________________________________________________________\n",
      "BN6 (BatchNormalization)     (None, 11, 11, 128)       512       \n",
      "_________________________________________________________________\n",
      "MP3 (MaxPooling2D)           (None, 5, 5, 128)         0         \n",
      "_________________________________________________________________\n",
      "BN7 (BatchNormalization)     (None, 5, 5, 128)         512       \n",
      "_________________________________________________________________\n",
      "Flatten (Flatten)            (None, 3200)              0         \n",
      "_________________________________________________________________\n",
      "Dense1 (Dense)               (None, 256)               819456    \n",
      "_________________________________________________________________\n",
      "Dense2 (Dense)               (None, 512)               131584    \n",
      "_________________________________________________________________\n",
      "BN8 (BatchNormalization)     (None, 512)               2048      \n",
      "_________________________________________________________________\n",
      "Dense3 (Dense)               (None, 15)                7695      \n",
      "=================================================================\n",
      "Total params: 1,249,519\n",
      "Trainable params: 1,247,343\n",
      "Non-trainable params: 2,176\n",
      "_________________________________________________________________\n"
     ]
    }
   ],
   "source": [
    "model.summary()"
   ]
  },
  {
   "cell_type": "code",
   "execution_count": 14,
   "metadata": {},
   "outputs": [],
   "source": [
    "model.compile(loss=\"categorical_crossentropy\", optimizer=\"adam\", metrics=[\"accuracy\"])"
   ]
  },
  {
   "cell_type": "code",
   "execution_count": 15,
   "metadata": {},
   "outputs": [
    {
     "name": "stdout",
     "output_type": "stream",
     "text": [
      "Epoch 1/3\n",
      "4879/4879 [==============================] - 3652s 748ms/step - loss: 0.2642 - accuracy: 0.9190 - val_loss: 21.5354 - val_accuracy: 0.0457\n",
      "Epoch 2/3\n",
      "4879/4879 [==============================] - 2950s 605ms/step - loss: 0.1427 - accuracy: 0.9564 - val_loss: 0.1412 - val_accuracy: 0.9561\n",
      "Epoch 3/3\n",
      "4879/4879 [==============================] - 2913s 597ms/step - loss: 0.1195 - accuracy: 0.9643 - val_loss: 0.1178 - val_accuracy: 0.9623\n"
     ]
    }
   ],
   "source": [
    "history = model.fit(train_dataset,epochs=3,verbose=1,batch_size=32,validation_data=test_dataset)"
   ]
  },
  {
   "cell_type": "code",
   "execution_count": 16,
   "metadata": {},
   "outputs": [
    {
     "name": "stdout",
     "output_type": "stream",
     "text": [
      "Saved model to disk\n"
     ]
    }
   ],
   "source": [
    "model_json = model.to_json()\n",
    "with open(\"model.json\", \"w\") as json_file:\n",
    "    json_file.write(model_json)\n",
    "\n",
    "model.save_weights(\"model.h5\")\n",
    "print(\"Saved model to disk\")"
   ]
  },
  {
   "cell_type": "code",
   "execution_count": 17,
   "metadata": {},
   "outputs": [],
   "source": [
    "model.save('./solver.h5')"
   ]
  },
  {
   "cell_type": "code",
   "execution_count": 18,
   "metadata": {},
   "outputs": [
    {
     "name": "stdout",
     "output_type": "stream",
     "text": [
      "(700, 700, 3)\n",
      "(1, 45, 45, 1)\n"
     ]
    },
    {
     "data": {
      "image/png": "[encoded data removed]",
      "text/plain": [
       "<Figure size 432x288 with 1 Axes>"
      ]
     },
     "metadata": {
      "needs_background": "light"
     },
     "output_type": "display_data"
    }
   ],
   "source": [
    "img = cv2.imread('./55.jpg')\n",
    "print(img.shape)\n",
    "img = cv2.cvtColor(img, cv2.COLOR_BGR2GRAY)\n",
    "img = np.array(img)\n",
    "img = ~img\n",
    "imgl = np.resize(img, (45,45))\n",
    "imgl = imgl.reshape((-1,45,45,1))\n",
    "print(imgl.shape)\n",
    "plt.imshow(img)\n",
    "plt.show()"
   ]
  },
  {
   "cell_type": "code",
   "execution_count": 19,
   "metadata": {},
   "outputs": [
    {
     "name": "stdout",
     "output_type": "stream",
     "text": [
      "4\n"
     ]
    }
   ],
   "source": [
    "res = model.predict(imgl)\n",
    "print(np.argmax(res))"
   ]
  },
  {
   "cell_type": "code",
   "execution_count": null,
   "metadata": {},
   "outputs": [],
   "source": []
  }
 ],
 "metadata": {
  "kernelspec": {
   "display_name": "Python 3",
   "language": "python",
   "name": "python3"
  },
  "language_info": {
   "codemirror_mode": {
    "name": "ipython",
    "version": 3
   },
   "file_extension": ".py",
   "mimetype": "text/x-python",
   "name": "python",
   "nbconvert_exporter": "python",
   "pygments_lexer": "ipython3",
   "version": "3.8.8"
  }
 },
 "nbformat": 4,
 "nbformat_minor": 4
}
