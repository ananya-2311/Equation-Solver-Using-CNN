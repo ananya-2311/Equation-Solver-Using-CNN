{
 "cells": [
  {
   "cell_type": "code",
   "execution_count": 22,
   "metadata": {},
   "outputs": [],
   "source": [
    "import numpy as np\n",
    "import tensorflow as tf\n",
    "import matplotlib.pyplot as plt\n",
    "import os\n",
    "from tensorflow.keras.preprocessing.image import ImageDataGenerator\n",
    "from tensorflow.keras.preprocessing import image"
   ]
  },
  {
   "cell_type": "code",
   "execution_count": 46,
   "metadata": {},
   "outputs": [],
   "source": [
    "ds = ImageDataGenerator(rotation_range=20, \n",
    "                        width_shift_range=0.2,\n",
    "                        height_shift_range=0.2,\n",
    "                        validation_split=0.2,\n",
    "                        rescale=1/255,)"
   ]
  },
  {
   "cell_type": "code",
   "execution_count": 78,
   "metadata": {},
   "outputs": [
    {
     "name": "stdout",
     "output_type": "stream",
     "text": [
      "Found 181738 images belonging to 22 classes.\n",
      "Found 45423 images belonging to 22 classes.\n"
     ]
    }
   ],
   "source": [
    "train_dataset = ds.flow_from_directory(\"Datasets/Equation Solver Dataset-small\", \n",
    "                                 class_mode='categorical', color_mode = \"grayscale\",\n",
    "                                 target_size=(45,45),\n",
    "                                 subset=\"training\")\n",
    "\n",
    "test_dataset = ds.flow_from_directory(\"Datasets/Equation Solver Dataset-small\",\n",
    "                                 class_mode='categorical', color_mode = \"grayscale\",\n",
    "                                 target_size=(45,45),\n",
    "                                 subset=\"validation\")"
   ]
  },
  {
   "cell_type": "code",
   "execution_count": 79,
   "metadata": {},
   "outputs": [],
   "source": [
    "#Exploring Dataset"
   ]
  },
  {
   "cell_type": "code",
   "execution_count": 80,
   "metadata": {},
   "outputs": [
    {
     "name": "stdout",
     "output_type": "stream",
     "text": [
      "<tensorflow.python.keras.preprocessing.image.DirectoryIterator object at 0x000001EE7AF89A00>\n"
     ]
    }
   ],
   "source": [
    "print(train_dataset)"
   ]
  },
  {
   "cell_type": "code",
   "execution_count": 81,
   "metadata": {},
   "outputs": [
    {
     "data": {
      "text/plain": [
       "{'+': 0,\n",
       " '-': 1,\n",
       " '0': 2,\n",
       " '1': 3,\n",
       " '2': 4,\n",
       " '3': 5,\n",
       " '4': 6,\n",
       " '5': 7,\n",
       " '6': 8,\n",
       " '7': 9,\n",
       " '8': 10,\n",
       " '9': 11,\n",
       " '=': 12,\n",
       " 'X': 13,\n",
       " 'cos': 14,\n",
       " 'div': 15,\n",
       " 'log': 16,\n",
       " 'sin': 17,\n",
       " 'sqrt': 18,\n",
       " 'tan': 19,\n",
       " 'times': 20,\n",
       " 'y': 21}"
      ]
     },
     "execution_count": 81,
     "metadata": {},
     "output_type": "execute_result"
    }
   ],
   "source": [
    "train_dataset.class_indices"
   ]
  },
  {
   "cell_type": "code",
   "execution_count": 82,
   "metadata": {},
   "outputs": [
    {
     "data": {
      "text/plain": [
       "(45, 45)"
      ]
     },
     "execution_count": 82,
     "metadata": {},
     "output_type": "execute_result"
    }
   ],
   "source": [
    "import cv2\n",
    "cv2.imread(\"Datasets/Equation Solver Dataset-small/-/-_66.jpg\", cv2.IMREAD_GRAYSCALE).shape"
   ]
  },
  {
   "cell_type": "code",
   "execution_count": 83,
   "metadata": {},
   "outputs": [],
   "source": [
    "#Defining Model"
   ]
  },
  {
   "cell_type": "code",
   "execution_count": 84,
   "metadata": {},
   "outputs": [],
   "source": [
    "model = tf.keras.models.Sequential([\n",
    "    #1st Layer\n",
    "    tf.keras.layers.BatchNormalization(name=\"BN1\",input_shape=(45,45,1),),\n",
    "    tf.keras.layers.ZeroPadding2D(name=\"ZP1\"),\n",
    "    tf.keras.layers.Conv2D(32,(3,3),activation=\"relu\",padding=\"valid\",name='Conv1',),\n",
    "    tf.keras.layers.ZeroPadding2D(name=\"ZP2\"),\n",
    "    tf.keras.layers.Conv2D(32,(3,3),activation=\"relu\",padding=\"valid\",name='Conv2'),\n",
    "    tf.keras.layers.MaxPool2D((2,2),name=\"MP1\"),\n",
    "    #2nd Layer\n",
    "    tf.keras.layers.BatchNormalization(name=\"BN2\"),\n",
    "    tf.keras.layers.ZeroPadding2D(name=\"ZP3\"),\n",
    "    tf.keras.layers.Conv2D(64,(3,3),activation=\"relu\",padding=\"valid\",name=\"Conv3\"),\n",
    "    tf.keras.layers.ZeroPadding2D(name=\"ZP4\"),\n",
    "    tf.keras.layers.Conv2D(64,(3,3),activation=\"relu\",padding=\"valid\",name='Conv4'),\n",
    "    tf.keras.layers.MaxPool2D((2,2),name=\"MP2\"),\n",
    "    #3rd Layer\n",
    "    tf.keras.layers.BatchNormalization(name=\"BN3\"),\n",
    "    tf.keras.layers.ZeroPadding2D(name=\"ZP5\"),\n",
    "    tf.keras.layers.Conv2D(128,(3,3),activation=\"relu\",padding=\"valid\",name=\"Conv5\"),\n",
    "    tf.keras.layers.ZeroPadding2D(name=\"ZP6\"),\n",
    "    tf.keras.layers.Conv2D(128,(3,3),activation=\"relu\",padding=\"valid\",name='Conv6'),\n",
    "    tf.keras.layers.MaxPool2D((2,2),name=\"MP3\"),\n",
    "    #Flat Layers\n",
    "    tf.keras.layers.BatchNormalization(name=\"BN4\"),\n",
    "    tf.keras.layers.Flatten(name=\"Flatten\"),\n",
    "    tf.keras.layers.Dense(256,activation=\"relu\",name=\"Dense1\"),\n",
    "    tf.keras.layers.Dense(512,activation=\"relu\",name=\"Dense2\"),\n",
    "    tf.keras.layers.BatchNormalization(name=\"BN5\"),\n",
    "    tf.keras.layers.Dense(22,activation=\"softmax\",name=\"Dense3\")\n",
    "])"
   ]
  },
  {
   "cell_type": "code",
   "execution_count": 85,
   "metadata": {},
   "outputs": [
    {
     "name": "stdout",
     "output_type": "stream",
     "text": [
      "Model: \"sequential_7\"\n",
      "_________________________________________________________________\n",
      "Layer (type)                 Output Shape              Param #   \n",
      "=================================================================\n",
      "BN1 (BatchNormalization)     (None, 45, 45, 1)         4         \n",
      "_________________________________________________________________\n",
      "ZP1 (ZeroPadding2D)          (None, 47, 47, 1)         0         \n",
      "_________________________________________________________________\n",
      "Conv1 (Conv2D)               (None, 45, 45, 32)        320       \n",
      "_________________________________________________________________\n",
      "ZP2 (ZeroPadding2D)          (None, 47, 47, 32)        0         \n",
      "_________________________________________________________________\n",
      "Conv2 (Conv2D)               (None, 45, 45, 32)        9248      \n",
      "_________________________________________________________________\n",
      "MP1 (MaxPooling2D)           (None, 22, 22, 32)        0         \n",
      "_________________________________________________________________\n",
      "BN2 (BatchNormalization)     (None, 22, 22, 32)        128       \n",
      "_________________________________________________________________\n",
      "ZP3 (ZeroPadding2D)          (None, 24, 24, 32)        0         \n",
      "_________________________________________________________________\n",
      "Conv3 (Conv2D)               (None, 22, 22, 64)        18496     \n",
      "_________________________________________________________________\n",
      "ZP4 (ZeroPadding2D)          (None, 24, 24, 64)        0         \n",
      "_________________________________________________________________\n",
      "Conv4 (Conv2D)               (None, 22, 22, 64)        36928     \n",
      "_________________________________________________________________\n",
      "MP2 (MaxPooling2D)           (None, 11, 11, 64)        0         \n",
      "_________________________________________________________________\n",
      "BN3 (BatchNormalization)     (None, 11, 11, 64)        256       \n",
      "_________________________________________________________________\n",
      "ZP5 (ZeroPadding2D)          (None, 13, 13, 64)        0         \n",
      "_________________________________________________________________\n",
      "Conv5 (Conv2D)               (None, 11, 11, 128)       73856     \n",
      "_________________________________________________________________\n",
      "ZP6 (ZeroPadding2D)          (None, 13, 13, 128)       0         \n",
      "_________________________________________________________________\n",
      "Conv6 (Conv2D)               (None, 11, 11, 128)       147584    \n",
      "_________________________________________________________________\n",
      "MP3 (MaxPooling2D)           (None, 5, 5, 128)         0         \n",
      "_________________________________________________________________\n",
      "BN4 (BatchNormalization)     (None, 5, 5, 128)         512       \n",
      "_________________________________________________________________\n",
      "Flatten (Flatten)            (None, 3200)              0         \n",
      "_________________________________________________________________\n",
      "Dense1 (Dense)               (None, 256)               819456    \n",
      "_________________________________________________________________\n",
      "Dense2 (Dense)               (None, 512)               131584    \n",
      "_________________________________________________________________\n",
      "BN5 (BatchNormalization)     (None, 512)               2048      \n",
      "_________________________________________________________________\n",
      "Dense3 (Dense)               (None, 22)                11286     \n",
      "=================================================================\n",
      "Total params: 1,251,706\n",
      "Trainable params: 1,250,232\n",
      "Non-trainable params: 1,474\n",
      "_________________________________________________________________\n"
     ]
    }
   ],
   "source": [
    "model.summary()"
   ]
  },
  {
   "cell_type": "code",
   "execution_count": 86,
   "metadata": {},
   "outputs": [],
   "source": [
    "model.compile(loss=\"categorical_crossentropy\", optimizer=\"adam\", metrics=[\"accuracy\"])"
   ]
  },
  {
   "cell_type": "code",
   "execution_count": 87,
   "metadata": {},
   "outputs": [
    {
     "name": "stdout",
     "output_type": "stream",
     "text": [
      "Epoch 1/3\n",
      "5680/5680 [==============================] - 4761s 838ms/step - loss: 0.5185 - accuracy: 0.8514 - val_loss: 0.1602 - val_accuracy: 0.9493\n",
      "Epoch 2/3\n",
      "5680/5680 [==============================] - 4938s 869ms/step - loss: 0.1643 - accuracy: 0.9476 - val_loss: 0.1556 - val_accuracy: 0.9539\n",
      "Epoch 3/3\n",
      "5680/5680 [==============================] - 27713s 5s/step - loss: 0.1252 - accuracy: 0.9589 - val_loss: 0.0948 - val_accuracy: 0.9672\n"
     ]
    }
   ],
   "source": [
    "history = model.fit(train_dataset,epochs=3,verbose=1,batch_size=32,validation_data=test_dataset)"
   ]
  },
  {
   "cell_type": "code",
   "execution_count": 88,
   "metadata": {},
   "outputs": [
    {
     "name": "stdout",
     "output_type": "stream",
     "text": [
      "Saved model to disk\n"
     ]
    }
   ],
   "source": [
    "model_json = model.to_json()\n",
    "with open(\"model.json\", \"w\") as json_file:\n",
    "    json_file.write(model_json)\n",
    "\n",
    "model.save_weights(\"model.h5\")\n",
    "print(\"Saved model to disk\")"
   ]
  },
  {
   "cell_type": "code",
   "execution_count": null,
   "metadata": {},
   "outputs": [],
   "source": []
  },
  {
   "cell_type": "code",
   "execution_count": null,
   "metadata": {},
   "outputs": [],
   "source": []
  }
 ],
 "metadata": {
  "kernelspec": {
   "display_name": "Python 3",
   "language": "python",
   "name": "python3"
  },
  "language_info": {
   "codemirror_mode": {
    "name": "ipython",
    "version": 3
   },
   "file_extension": ".py",
   "mimetype": "text/x-python",
   "name": "python",
   "nbconvert_exporter": "python",
   "pygments_lexer": "ipython3",
   "version": "3.8.3"
  }
 },
 "nbformat": 4,
 "nbformat_minor": 4
}
